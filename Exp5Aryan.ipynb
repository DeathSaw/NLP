{
  "nbformat": 4,
  "nbformat_minor": 0,
  "metadata": {
    "colab": {
      "provenance": [],
      "authorship_tag": "ABX9TyMRycd1gQ9R+vpK5ZcIhX7J",
      "include_colab_link": true
    },
    "kernelspec": {
      "name": "python3",
      "display_name": "Python 3"
    },
    "language_info": {
      "name": "python"
    }
  },
  "cells": [
    {
      "cell_type": "markdown",
      "metadata": {
        "id": "view-in-github",
        "colab_type": "text"
      },
      "source": [
        "<a href=\"https://colab.research.google.com/github/DeathSaw/NLP/blob/main/Exp5Aryan.ipynb\" target=\"_parent\"><img src=\"https://colab.research.google.com/assets/colab-badge.svg\" alt=\"Open In Colab\"/></a>"
      ]
    },
    {
      "cell_type": "code",
      "execution_count": 2,
      "metadata": {
        "colab": {
          "base_uri": "https://localhost:8080/"
        },
        "id": "IYvGAJMEvD4F",
        "outputId": "f0c0ef5d-d2c5-4810-c054-193a4f4386da"
      },
      "outputs": [
        {
          "output_type": "stream",
          "name": "stderr",
          "text": [
            "[nltk_data] Downloading package punkt to /root/nltk_data...\n",
            "[nltk_data]   Unzipping tokenizers/punkt.zip.\n",
            "[nltk_data] Downloading package averaged_perceptron_tagger to\n",
            "[nltk_data]     /root/nltk_data...\n",
            "[nltk_data]   Unzipping taggers/averaged_perceptron_tagger.zip.\n"
          ]
        },
        {
          "output_type": "stream",
          "name": "stdout",
          "text": [
            "Original Text:\n",
            "Python is a modern programming language easy to use\n",
            "\n",
            "PoS Tagging Result:\n",
            "Python: NNP\n",
            "is: VBZ\n",
            "a: DT\n",
            "modern: JJ\n",
            "programming: NN\n",
            "language: NN\n",
            "easy: JJ\n",
            "to: TO\n",
            "use: VB\n"
          ]
        }
      ],
      "source": [
        " import nltk\n",
        " from nltk.tokenize import word_tokenize\n",
        " from nltk import pos_tag\n",
        "\n",
        "\n",
        " nltk.download('punkt')\n",
        " nltk.download('averaged_perceptron_tagger')\n",
        " text = \"Python is a modern programming language easy to use\"\n",
        " words = word_tokenize(text)\n",
        " pos_tags = pos_tag(words)\n",
        " print(\"Original Text:\")\n",
        " print(text)\n",
        " print(\"\\nPoS Tagging Result:\")\n",
        " for word, pos in pos_tags:\n",
        "  print(f\"{word}: {pos}\")\n"
      ]
    },
    {
      "cell_type": "code",
      "source": [
        " import spacy\n",
        "\n",
        " nlp = spacy.load(\"en_core_web_sm\")\n",
        " text = \"SpaCy is a popular NLP library. It is currently being used here for the experiment.\"\n",
        " doc = nlp(text)\n",
        " print(\"Original Text: \", text)\n",
        " print(\"PoS Tagging Result:\")\n",
        "\n",
        " for token in doc:\n",
        "  print(f\"{token.text}: {token.pos_}\")"
      ],
      "metadata": {
        "colab": {
          "base_uri": "https://localhost:8080/"
        },
        "id": "qUMrY5kxvhON",
        "outputId": "b57b580c-1bf5-4cfe-9db4-79c09c2a1bc4"
      },
      "execution_count": 4,
      "outputs": [
        {
          "output_type": "stream",
          "name": "stdout",
          "text": [
            "Original Text:  SpaCy is a popular NLP library. It is currently being used here for the experiment.\n",
            "PoS Tagging Result:\n",
            "SpaCy: PROPN\n",
            "is: AUX\n",
            "a: DET\n",
            "popular: ADJ\n",
            "NLP: NOUN\n",
            "library: NOUN\n",
            ".: PUNCT\n",
            "It: PRON\n",
            "is: AUX\n",
            "currently: ADV\n",
            "being: AUX\n",
            "used: VERB\n",
            "here: ADV\n",
            "for: ADP\n",
            "the: DET\n",
            "experiment: NOUN\n",
            ".: PUNCT\n"
          ]
        }
      ]
    },
    {
      "cell_type": "code",
      "source": [],
      "metadata": {
        "id": "szeqdiRS0KZV"
      },
      "execution_count": null,
      "outputs": []
    }
  ]
}