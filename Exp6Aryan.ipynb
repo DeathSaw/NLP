{
  "nbformat": 4,
  "nbformat_minor": 0,
  "metadata": {
    "colab": {
      "provenance": [],
      "authorship_tag": "ABX9TyOIMA59D0HGHAg4kgHmCCvh",
      "include_colab_link": true
    },
    "kernelspec": {
      "name": "python3",
      "display_name": "Python 3"
    },
    "language_info": {
      "name": "python"
    }
  },
  "cells": [
    {
      "cell_type": "markdown",
      "metadata": {
        "id": "view-in-github",
        "colab_type": "text"
      },
      "source": [
        "<a href=\"https://colab.research.google.com/github/DeathSaw/NLP/blob/main/Exp6Aryan.ipynb\" target=\"_parent\"><img src=\"https://colab.research.google.com/assets/colab-badge.svg\" alt=\"Open In Colab\"/></a>"
      ]
    },
    {
      "cell_type": "code",
      "source": [
        "!pip install svgling"
      ],
      "metadata": {
        "colab": {
          "base_uri": "https://localhost:8080/"
        },
        "id": "xthArZ691Bt4",
        "outputId": "833d58bc-1fb3-4812-f0f6-1ff724f20fbf"
      },
      "execution_count": 1,
      "outputs": [
        {
          "output_type": "stream",
          "name": "stdout",
          "text": [
            "Collecting svgling\n",
            "  Downloading svgling-0.5.0-py3-none-any.whl.metadata (7.4 kB)\n",
            "Collecting svgwrite (from svgling)\n",
            "  Downloading svgwrite-1.4.3-py3-none-any.whl.metadata (8.8 kB)\n",
            "Downloading svgling-0.5.0-py3-none-any.whl (31 kB)\n",
            "Downloading svgwrite-1.4.3-py3-none-any.whl (67 kB)\n",
            "\u001b[?25l   \u001b[90m━━━━━━━━━━━━━━━━━━━━━━━━━━━━━━━━━━━━━━━━\u001b[0m \u001b[32m0.0/67.1 kB\u001b[0m \u001b[31m?\u001b[0m eta \u001b[36m-:--:--\u001b[0m\r\u001b[2K   \u001b[90m━━━━━━━━━━━━━━━━━━━━━━━━━━━━━━━━━━━━━━━━\u001b[0m \u001b[32m67.1/67.1 kB\u001b[0m \u001b[31m3.6 MB/s\u001b[0m eta \u001b[36m0:00:00\u001b[0m\n",
            "\u001b[?25hInstalling collected packages: svgwrite, svgling\n",
            "Successfully installed svgling-0.5.0 svgwrite-1.4.3\n"
          ]
        }
      ]
    },
    {
      "cell_type": "code",
      "execution_count": 3,
      "metadata": {
        "colab": {
          "base_uri": "https://localhost:8080/"
        },
        "id": "mUiYvjQE00Di",
        "outputId": "15097154-390f-401d-cff6-fcec170f6659"
      },
      "outputs": [
        {
          "output_type": "stream",
          "name": "stdout",
          "text": [
            "Chunk Pattern :  (<(DT)>)?(<(NN[^\\{\\}<>]*)>)+\n",
            "Requirement already satisfied: svgling in /usr/local/lib/python3.10/dist-packages (0.5.0)\n",
            "Requirement already satisfied: svgwrite in /usr/local/lib/python3.10/dist-packages (from svgling) (1.4.3)\n",
            "(S (NP the/DT book/NN) (VP has/VBZ) many/JJ chapters/NNS)\n"
          ]
        }
      ],
      "source": [
        " from nltk.chunk.regexp import tag_pattern2re_pattern\n",
        " print(\"Chunk Pattern : \", tag_pattern2re_pattern('<DT>?<NN.*>+'))\n",
        " !pip install svgling\n",
        " from nltk.chunk import RegexpParser\n",
        " chunker = RegexpParser(r'''\n",
        "      NP: {<DT><NN.*>+}\n",
        "      VP: {<VB.*>.*}\n",
        "      ''')\n",
        " pos_tags = [('the', 'DT'), ('room', 'NN'), ('has', 'VBZ'), ('many', 'JJ'),\n",
        " ('doors', 'NNS')]\n",
        " result = chunker.parse(pos_tags)\n",
        " print(result)"
      ]
    },
    {
      "cell_type": "code",
      "source": [
        "!pip install svgling\n",
        "import nltk\n",
        "from nltk import Tree, pos_tag, word_tokenize\n",
        "from nltk.parse import CoreNLPParser\n",
        "\n",
        "nltk.download('punkt')\n",
        "nltk.download('averaged_perceptron_tagger')\n",
        "\n",
        "grammar = '''\n",
        "  S -> NP VP\n",
        "  NP -> DT NN | NP JJ NN\n",
        "  VP -> VBZ NP | VP JJ\n",
        "  DT -> 'the'\n",
        "  NN -> 'room' | 'doors'\n",
        "  VBZ -> 'has'\n",
        "  JJ -> 'many'\n",
        "'''\n",
        "\n",
        "parser = nltk.ChartParser(nltk.CFG.fromstring(grammar))\n",
        "\n",
        "sentence = \"the room has many doors\"\n",
        "tokens = word_tokenize(sentence)\n",
        "for tree in parser.parse(tokens):\n",
        "    print(tree)\n",
        "    tree.pretty_print()\n",
        "    try:\n",
        "        from svgling import draw_tree\n",
        "        draw_tree(tree).show()\n",
        "    except Exception as e:\n",
        "        print(\"Visualization error:\", e)\n"
      ],
      "metadata": {
        "colab": {
          "base_uri": "https://localhost:8080/"
        },
        "id": "sva2CQ5U1LY9",
        "outputId": "1a89cde3-3c3d-4ab7-be57-1534348f300a"
      },
      "execution_count": 10,
      "outputs": [
        {
          "output_type": "stream",
          "name": "stdout",
          "text": [
            "Requirement already satisfied: svgling in /usr/local/lib/python3.10/dist-packages (0.5.0)\n",
            "Requirement already satisfied: svgwrite in /usr/local/lib/python3.10/dist-packages (from svgling) (1.4.3)\n"
          ]
        },
        {
          "output_type": "stream",
          "name": "stderr",
          "text": [
            "[nltk_data] Downloading package punkt to /root/nltk_data...\n",
            "[nltk_data]   Package punkt is already up-to-date!\n",
            "[nltk_data] Downloading package averaged_perceptron_tagger to\n",
            "[nltk_data]     /root/nltk_data...\n",
            "[nltk_data]   Package averaged_perceptron_tagger is already up-to-\n",
            "[nltk_data]       date!\n"
          ]
        }
      ]
    },
    {
      "cell_type": "code",
      "source": [],
      "metadata": {
        "id": "eevl5p1j2n-G"
      },
      "execution_count": null,
      "outputs": []
    }
  ]
}