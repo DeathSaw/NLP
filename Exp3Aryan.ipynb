{
  "nbformat": 4,
  "nbformat_minor": 0,
  "metadata": {
    "colab": {
      "provenance": [],
      "authorship_tag": "ABX9TyPVVrG8VfwWkhEFLJH4mWL0",
      "include_colab_link": true
    },
    "kernelspec": {
      "name": "python3",
      "display_name": "Python 3"
    },
    "language_info": {
      "name": "python"
    }
  },
  "cells": [
    {
      "cell_type": "markdown",
      "metadata": {
        "id": "view-in-github",
        "colab_type": "text"
      },
      "source": [
        "<a href=\"https://colab.research.google.com/github/DeathSaw/NLP/blob/main/Exp3Aryan.ipynb\" target=\"_parent\"><img src=\"https://colab.research.google.com/assets/colab-badge.svg\" alt=\"Open In Colab\"/></a>"
      ]
    },
    {
      "cell_type": "code",
      "execution_count": 1,
      "metadata": {
        "id": "gyB6G3PxlQP5"
      },
      "outputs": [],
      "source": [
        " from nltk.stem import PorterStemmer"
      ]
    },
    {
      "cell_type": "code",
      "source": [
        " porter = PorterStemmer()"
      ],
      "metadata": {
        "id": "mXL2cPrjla54"
      },
      "execution_count": 2,
      "outputs": []
    },
    {
      "cell_type": "code",
      "source": [
        " print(porter.stem(\"run\"))\n",
        " print(porter.stem(\"running\"))\n",
        " print(porter.stem(\"runs\"))\n",
        " print(porter.stem(\"runner\"))\n",
        " print(porter.stem(\"ran\"))"
      ],
      "metadata": {
        "colab": {
          "base_uri": "https://localhost:8080/"
        },
        "id": "KvByQOQflg0k",
        "outputId": "06a202c7-6d74-49d2-ceae-880a05a96eb5"
      },
      "execution_count": 3,
      "outputs": [
        {
          "output_type": "stream",
          "name": "stdout",
          "text": [
            "run\n",
            "run\n",
            "run\n",
            "runner\n",
            "ran\n"
          ]
        }
      ]
    },
    {
      "cell_type": "code",
      "source": [
        " from nltk.stem import PorterStemmer\n",
        " porter = PorterStemmer()\n",
        " print(porter.stem(\"Calcification\"))"
      ],
      "metadata": {
        "colab": {
          "base_uri": "https://localhost:8080/"
        },
        "id": "fjwyaHGll31R",
        "outputId": "f4e4492d-fd57-43bf-99d3-0d397b6de87e"
      },
      "execution_count": 4,
      "outputs": [
        {
          "output_type": "stream",
          "name": "stdout",
          "text": [
            "calcif\n"
          ]
        }
      ]
    },
    {
      "cell_type": "code",
      "source": [
        " import nltk\n",
        " nltk.download('wordnet')"
      ],
      "metadata": {
        "colab": {
          "base_uri": "https://localhost:8080/"
        },
        "id": "yfJfXGXfmF-r",
        "outputId": "2bd87f54-dd80-4353-c487-c72285f97919"
      },
      "execution_count": 5,
      "outputs": [
        {
          "output_type": "stream",
          "name": "stderr",
          "text": [
            "[nltk_data] Downloading package wordnet to /root/nltk_data...\n"
          ]
        },
        {
          "output_type": "execute_result",
          "data": {
            "text/plain": [
              "True"
            ]
          },
          "metadata": {},
          "execution_count": 5
        }
      ]
    },
    {
      "cell_type": "code",
      "source": [
        " from nltk.stem import WordNetLemmatizer\n",
        " lemmatizer = WordNetLemmatizer()\n",
        " print(lemmatizer.lemmatize(\"runs\", 'v'))\n",
        " print(lemmatizer.lemmatize(\"ran\", 'v'))\n",
        " print(lemmatizer.lemmatize(\"run\", 'v'))\n",
        " print(lemmatizer.lemmatize(\"running\", 'v'))\n",
        " print(lemmatizer.lemmatize(\"smarter\", 'a'))\n",
        " print(lemmatizer.lemmatize(\"knew\", 'v'))"
      ],
      "metadata": {
        "colab": {
          "base_uri": "https://localhost:8080/"
        },
        "id": "jNEOW03JmKGD",
        "outputId": "ffe27427-1f18-4267-9eaf-0d1c9d6e1507"
      },
      "execution_count": 6,
      "outputs": [
        {
          "output_type": "stream",
          "name": "stdout",
          "text": [
            "run\n",
            "run\n",
            "run\n",
            "run\n",
            "smart\n",
            "know\n"
          ]
        }
      ]
    },
    {
      "cell_type": "code",
      "source": [
        " from nltk.stem import WordNetLemmatizer\n",
        " lemmatizer = WordNetLemmatizer()\n",
        " print(lemmatizer.lemmatize(\"Calcification\", 'v'))"
      ],
      "metadata": {
        "colab": {
          "base_uri": "https://localhost:8080/"
        },
        "id": "-RBLl3DQmmGc",
        "outputId": "199e404c-1772-4fbe-d78a-c67b8da47656"
      },
      "execution_count": 7,
      "outputs": [
        {
          "output_type": "stream",
          "name": "stdout",
          "text": [
            "Calcification\n"
          ]
        }
      ]
    },
    {
      "cell_type": "code",
      "source": [],
      "metadata": {
        "id": "JtYsfh4Qmu0E"
      },
      "execution_count": null,
      "outputs": []
    }
  ]
}