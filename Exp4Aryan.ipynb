{
  "nbformat": 4,
  "nbformat_minor": 0,
  "metadata": {
    "colab": {
      "provenance": [],
      "authorship_tag": "ABX9TyMmaWrFPh0FbRuif2VVegpR",
      "include_colab_link": true
    },
    "kernelspec": {
      "name": "python3",
      "display_name": "Python 3"
    },
    "language_info": {
      "name": "python"
    }
  },
  "cells": [
    {
      "cell_type": "markdown",
      "metadata": {
        "id": "view-in-github",
        "colab_type": "text"
      },
      "source": [
        "<a href=\"https://colab.research.google.com/github/DeathSaw/NLP/blob/main/Exp4Aryan.ipynb\" target=\"_parent\"><img src=\"https://colab.research.google.com/assets/colab-badge.svg\" alt=\"Open In Colab\"/></a>"
      ]
    },
    {
      "cell_type": "code",
      "execution_count": 1,
      "metadata": {
        "id": "KPtIGaWZowYy"
      },
      "outputs": [],
      "source": [
        " import nltk\n",
        " from nltk.tokenize import word_tokenize\n",
        " from nltk.stem import WordNetLemmatizer\n",
        " from nltk.corpus import wordnet\n",
        " import nltk\n",
        " from nltk.tokenize import word_tokenize\n",
        " from nltk.stem import WordNetLemmatizer\n",
        " from nltk.corpus import wordnet"
      ]
    },
    {
      "cell_type": "code",
      "source": [
        "nltk.download('punkt')\n",
        "nltk.download('wordnet')\n",
        "nltk.download('averaged_perceptron_tagger')"
      ],
      "metadata": {
        "colab": {
          "base_uri": "https://localhost:8080/"
        },
        "id": "x6dIcEr5o_9H",
        "outputId": "3caa7826-06a2-401f-acaf-b555e5b870e4"
      },
      "execution_count": 3,
      "outputs": [
        {
          "output_type": "stream",
          "name": "stderr",
          "text": [
            "[nltk_data] Downloading package punkt to /root/nltk_data...\n",
            "[nltk_data]   Unzipping tokenizers/punkt.zip.\n",
            "[nltk_data] Downloading package wordnet to /root/nltk_data...\n",
            "[nltk_data] Downloading package averaged_perceptron_tagger to\n",
            "[nltk_data]     /root/nltk_data...\n",
            "[nltk_data]   Unzipping taggers/averaged_perceptron_tagger.zip.\n"
          ]
        },
        {
          "output_type": "execute_result",
          "data": {
            "text/plain": [
              "True"
            ]
          },
          "metadata": {},
          "execution_count": 3
        }
      ]
    },
    {
      "cell_type": "code",
      "source": [
        " lemmatizer = WordNetLemmatizer()"
      ],
      "metadata": {
        "id": "MvOh4bDnpFco"
      },
      "execution_count": 6,
      "outputs": []
    },
    {
      "cell_type": "code",
      "source": [
        " def get_wordnet_pos(treebank_tag):\n",
        "    if treebank_tag.startswith('J'):\n",
        "      return wordnet.ADJ\n",
        "    elif treebank_tag.startswith('V'):\n",
        "      return wordnet.VERB\n",
        "    elif treebank_tag.startswith('N'):\n",
        "      return wordnet.NOUN\n",
        "    elif treebank_tag.startswith('R'):\n",
        "      return wordnet.ADV\n",
        "    else:\n",
        "      return None\n",
        " text = \"Students are writing quickly.\"\n",
        " tokens = word_tokenize(text)\n",
        " pos_tags = nltk.pos_tag(tokens)\n",
        " analysis = []\n",
        " generated_words = {}\n",
        " for token, pos in pos_tags:\n",
        "    wordnet_pos = get_wordnet_pos(pos) or wordnet.NOUN\n",
        "    lemma = lemmatizer.lemmatize(token, pos=wordnet_pos)\n",
        "    analysis.append((token, lemma, pos))\n",
        "    if wordnet_pos == wordnet.NOUN:\n",
        "      generated_words[lemma] = [lemma, lemma + 's', lemma + \"'s\", lemma + \"s'\"]\n",
        "    elif wordnet_pos == wordnet.VERB:\n",
        "      generated_words[lemma] = [lemma, lemma + 's', lemma + 'ed', lemma +'ing']\n",
        "    elif wordnet_pos == wordnet.ADJ:\n",
        "      generated_words[lemma] = [lemma, lemma + 'er', lemma + 'est']\n",
        "    elif wordnet_pos == wordnet.ADV:\n",
        "      generated_words[lemma] = [lemma, lemma + 'ly']\n",
        "    else:\n",
        "      generated_words[lemma] = [lemma]\n",
        "\n",
        " print(\"Morphological Analysis:\")\n",
        " for token, lemma, pos in analysis:\n",
        "    print(f\"Token: {token}, Lemma: {lemma}, POS: {pos}\")\n",
        "\n",
        " print(\"\\nGenerated Words:\")\n",
        " for lemma, forms in generated_words.items():\n",
        "    print(f\"Lemma: {lemma}, Forms: {forms}\")\n"
      ],
      "metadata": {
        "colab": {
          "base_uri": "https://localhost:8080/"
        },
        "id": "NKRUWVQKpLPR",
        "outputId": "ea1511b9-cc64-42fd-bcce-eb46983ed1ba"
      },
      "execution_count": 7,
      "outputs": [
        {
          "output_type": "stream",
          "name": "stdout",
          "text": [
            "Morphological Analysis:\n",
            "Token: Students, Lemma: Students, POS: NNS\n",
            "Token: are, Lemma: be, POS: VBP\n",
            "Token: writing, Lemma: write, POS: VBG\n",
            "Token: quickly, Lemma: quickly, POS: RB\n",
            "Token: ., Lemma: ., POS: .\n",
            "\n",
            "Generated Words:\n",
            "Lemma: Students, Forms: ['Students', 'Studentss', \"Students's\", \"Studentss'\"]\n",
            "Lemma: be, Forms: ['be', 'bes', 'beed', 'being']\n",
            "Lemma: write, Forms: ['write', 'writes', 'writeed', 'writeing']\n",
            "Lemma: quickly, Forms: ['quickly', 'quicklyly']\n",
            "Lemma: ., Forms: ['.', '.s', \".'s\", \".s'\"]\n"
          ]
        }
      ]
    },
    {
      "cell_type": "code",
      "source": [],
      "metadata": {
        "id": "KrI2okDMuZVy"
      },
      "execution_count": null,
      "outputs": []
    }
  ]
}